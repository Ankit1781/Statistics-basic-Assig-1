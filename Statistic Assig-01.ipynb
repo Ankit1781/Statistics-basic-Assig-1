{
 "cells": [
  {
   "cell_type": "markdown",
   "id": "0fe5a316-9dc5-49f0-8676-4eaa025d0c0d",
   "metadata": {},
   "source": [
    "# Q1. What is Statistics?"
   ]
  },
  {
   "cell_type": "markdown",
   "id": "5d0ef3fe-4367-4c13-ab96-7e7f85dbec03",
   "metadata": {},
   "source": [
    "Statistics is the science of collecting, organizing and anylysing data."
   ]
  },
  {
   "cell_type": "markdown",
   "id": "b2520a3b-ac9a-45d2-9ff6-2fe6a2411306",
   "metadata": {},
   "source": [
    "# Q2. Define the different types of statistics and give an example of when each type might be used."
   ]
  },
  {
   "cell_type": "markdown",
   "id": "1cc7159f-952c-4394-b322-3dcd3efb56fc",
   "metadata": {},
   "source": [
    "Statistics can be broadly categorized into two main types: descriptive statistics and inferential statistics.\n",
    "\n",
    "1.DESCRIPTIVE STATISTICS: It consist of organizing and summarising data.\n",
    "    Its types are:\n",
    "    (a) Measurement of central tendency: [mean, median, mode]\n",
    "    (b) Measure of dispurtion: [varience, standard deviation]\n",
    "    (c) Different type of distribution of data: [Histogram, pdf, pmf]\n",
    "    \n",
    "2.INFERENTIAL STATISTICS: It consist of to form conclution using data we have.\n",
    "    Its types are:\n",
    "    (a) Hypothesis Testing\n",
    "    (b) Confidence Intervals\n",
    "    (c) Regression Analysis"
   ]
  },
  {
   "cell_type": "markdown",
   "id": "db12ab51-ea50-448d-90ff-36de82c7749d",
   "metadata": {},
   "source": [
    "# Q3. What are the different types of data and how do they differ from each other? Provide an example of each type of data."
   ]
  },
  {
   "cell_type": "markdown",
   "id": "52a61187-a80e-470e-87e6-fb2b373e8e08",
   "metadata": {},
   "source": [
    "Data are of two types:\n",
    "1. Quantitative data (it is mathematical)\n",
    "\n",
    "It have two types\n",
    "\n",
    "(a.) Discrete: It contains data with whole number.\n",
    "        e.g: number of students, total runs in cricket\n",
    "        \n",
    "(b) Continuous: It consists of any values.\n",
    "        e.g: height, weight.\n",
    "        \n",
    "2. Qualitative data (It is catagorical)\n",
    "\n",
    "It also have two types\n",
    "\n",
    "(a) Nominal: Nominal data is the most basic type of data, representing categories or labels without any inherent order or numerical value.\n",
    "        e.g: Colors: Red, blue, green.\n",
    "             Gender: Male, female.\n",
    "             Marital Status: Single, married, divorced.\n",
    "             \n",
    "(b) Ordinal: Ordinal data represents categories or labels with a natural order or ranking.\n",
    "        e.g: Ordinal data represents categories or labels with a natural order or ranking."
   ]
  },
  {
   "cell_type": "markdown",
   "id": "038531ba-37c6-48c9-9a60-87427575c6d2",
   "metadata": {},
   "source": [
    "# Q4. Categorise the following datasets with respect to quantitative and qualitative data types:"
   ]
  },
  {
   "cell_type": "markdown",
   "id": "563e027f-ebe7-4769-80ec-1ee05d2b374c",
   "metadata": {},
   "source": [
    "(i) Grading in exam: A+, A, B+, B, C+, C, D, E\n",
    "        =(Qualitative data)\n",
    "        \n",
    "(ii) Colour of mangoes: yellow, green, orange, red\n",
    "        =(Qualitative)\n",
    "        \n",
    "(iii) Height data of a class: [178.9, 179, 179.5, 176, 177.2, 178.3, 175.8,...]\n",
    "        =(Quantitative data)\n",
    "        \n",
    "(iv) Number of mangoes exported by a farm: [500, 600, 478, 672, ...]\n",
    "        =(Quantitative data)"
   ]
  },
  {
   "cell_type": "markdown",
   "id": "8e199f09-7e45-4f88-91a1-052a0bd5689b",
   "metadata": {},
   "source": [
    "# Q5. Explain the concept of levels of measurement and give an example of a variable for each level."
   ]
  },
  {
   "cell_type": "markdown",
   "id": "bee485dc-5510-41ee-8da9-2cae4c5dc563",
   "metadata": {},
   "source": [
    "Levels of measurement, also known as scales of measurement, refer to the different ways in which variables can be measured or classified in research and statistics. There are four main levels of measurement: nominal, ordinal, interval, and ratio.\n",
    "\n",
    "1.Noominal Level:\n",
    "At the nominal level, variables are categorized into distinct groups or classes without any inherent order or numerical value. They are purely qualitative in nature, and the only operation that can be applied is counting or frequency.\n",
    "Example: Eye Color\n",
    "\n",
    "Categories: Brown, Blue, Green, Hazel\n",
    "\n",
    "2.Ordinal Level:\n",
    "The ordinal level of measurement involves variables with categories that have a natural order, but the differences between categories are not equal or meaningful. It allows for ranking or ordering of data, but the precise difference between ranks is not defined.\n",
    "Example: Education Level\n",
    "\n",
    "Categories: High School Diploma, Associate's Degree, Bachelor's Degree, Master's Degree, Doctorate\n",
    "\n",
    "3."
   ]
  },
  {
   "cell_type": "markdown",
   "id": "353fc473-3070-4476-b3b9-5ea8202b2de3",
   "metadata": {},
   "source": [
    "# Q6. Why is it important to understand the level of measurement when analyzing data? Provide an example to illustrate your answer."
   ]
  },
  {
   "cell_type": "code",
   "execution_count": null,
   "id": "40998fa8-936b-4d3d-896f-036107f584a1",
   "metadata": {},
   "outputs": [],
   "source": []
  },
  {
   "cell_type": "markdown",
   "id": "5cd59787-2845-4dba-8a23-1d8ccba2b9ad",
   "metadata": {},
   "source": [
    "# Q7. How nominal data type is different from ordinal data type."
   ]
  },
  {
   "cell_type": "markdown",
   "id": "df23f84d-9f6a-4398-a8b2-397227df71d8",
   "metadata": {},
   "source": [
    "(a) Nominal: Nominal data is the most basic type of data, representing categories or labels without any inherent order or numerical value. e.g: Colors: Red, blue, green. Gender: Male, female. Marital Status: Single, married, divorced.\n",
    "\n",
    "(b) Ordinal: Ordinal data represents categories or labels with a natural order or ranking. e.g: Ordinal data represents categories or labels with a natural order or ranking."
   ]
  },
  {
   "cell_type": "markdown",
   "id": "b00cb314-5f85-4119-ac5d-163c71ff3e7d",
   "metadata": {},
   "source": [
    "# Q8. Which type of plot can be used to display data in terms of range?"
   ]
  },
  {
   "cell_type": "markdown",
   "id": "3d82042a-8269-4c5f-a445-b1567da432c2",
   "metadata": {},
   "source": [
    "A box plot, also known as a box-and-whisker plot, is commonly used to display data in terms of range. A box plot provides a visual representation of the minimum, first quartile (25th percentile), median (50th percentile), third quartile (75th percentile), and maximum values of a dataset."
   ]
  },
  {
   "cell_type": "markdown",
   "id": "58c743ed-dbb6-4e5a-af35-ac8431d497b3",
   "metadata": {},
   "source": [
    "# Q9. Describe the difference between descriptive and inferential statistics. Give an example of each type of statistics and explain how they are used."
   ]
  },
  {
   "cell_type": "markdown",
   "id": "33defbf1-20cf-4e1b-bd1f-ff672ef6f850",
   "metadata": {},
   "source": [
    "1.DESCRIPTIVE STATISTICS: It consist of organizing and summarising data.\n",
    "\n",
    "    Its types are:\n",
    "    (a) Measurement of central tendency: [mean, median, mode]\n",
    "    (b) Measure of dispurtion: [varience, standard deviation]\n",
    "    (c) Different type of distribution of data: [Histogram, pdf, pmf]\n",
    "    \n",
    "2.INFERENTIAL STATISTICS: It consist of to form conclution using data we have.\n",
    "\n",
    "    Its types are:\n",
    "    (a) Hypothesis Testing\n",
    "    (b) Confidence Intervals\n",
    "    (c) Regression Analysis\n",
    "    \n",
    "exp: Let us weight of 20 students of 9th class is (45,46,43,51,61,52,63,53,64,49,34,45,47......)\n",
    "\n",
    "Descriptive ques: What is the median weight of the class?\n",
    "\n",
    "Inferential ques: Are the weight of the class is similar to the weight of the all student of 9th class in entire country?"
   ]
  },
  {
   "cell_type": "markdown",
   "id": "87196a73-c91e-4d2b-a7ac-a9ffdf18a885",
   "metadata": {},
   "source": [
    "# Q10. What are some common measures of central tendency and variability used in statistics? Explain how each measure can be used to describe a dataset."
   ]
  },
  {
   "cell_type": "markdown",
   "id": "31a8e7e8-8604-436c-ade6-604eeae0c5e9",
   "metadata": {},
   "source": [
    "In statistics, measures of central tendency and variability are used to summarize and describe the characteristics of a dataset.\n",
    "\n",
    "        Measures of Central Tendency:\n",
    "        (a) Mean\n",
    "        (b) Median\n",
    "        (c) Mode\n",
    "        \n",
    "        Measures of Variability:\n",
    "        (a) Range\n",
    "        (b) Standard deviation\n",
    "        (c) Variance\n",
    "        \n",
    "These measures help describe different aspects of a dataset:\n",
    "\n",
    "Central tendency measures (mean, median, mode) provide information about the typical or central value of the data, helping to understand its central location or average.\n",
    "\n",
    "Variability measures (range, standard deviation, variance) give insights into the spread or dispersion of the data points. They indicate how much the data points deviate from the central value, providing a measure of the dataset's variability."
   ]
  },
  {
   "cell_type": "code",
   "execution_count": null,
   "id": "0ed79b5a-68db-478d-b7c4-c429d03d358a",
   "metadata": {},
   "outputs": [],
   "source": []
  }
 ],
 "metadata": {
  "kernelspec": {
   "display_name": "Python 3 (ipykernel)",
   "language": "python",
   "name": "python3"
  },
  "language_info": {
   "codemirror_mode": {
    "name": "ipython",
    "version": 3
   },
   "file_extension": ".py",
   "mimetype": "text/x-python",
   "name": "python",
   "nbconvert_exporter": "python",
   "pygments_lexer": "ipython3",
   "version": "3.10.8"
  }
 },
 "nbformat": 4,
 "nbformat_minor": 5
}
